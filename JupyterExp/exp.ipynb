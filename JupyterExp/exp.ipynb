{
 "cells": [
  {
   "cell_type": "markdown",
   "id": "d2ca984b",
   "metadata": {},
   "source": [
    "# Proyecto EDO Y NUMERICA"
   ]
  },
  {
   "cell_type": "code",
   "execution_count": null,
   "id": "0a7e0755",
   "metadata": {},
   "outputs": [],
   "source": [
    "print(\"Esto funciona\")"
   ]
  }
 ],
 "metadata": {
  "kernelspec": {
   "display_name": "jupyterMade",
   "language": "python",
   "name": "python3"
  },
  "language_info": {
   "name": "python",
   "version": "3.12.3"
  }
 },
 "nbformat": 4,
 "nbformat_minor": 5
}
